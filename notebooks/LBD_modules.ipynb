{
 "cells": [
  {
   "attachments": {},
   "cell_type": "markdown",
   "metadata": {},
   "source": [
    "# Demo of Python Script Modules for LBD Text Mining Analysis\n",
    "\n",
    "Modular and extensible Python script to implement a workflow for LBD text mining analysis. \n",
    "This script imports several modules that work together to perform data preprocessing, LBD text mining, and results analysis.\n",
    "\n",
    "## Architecture\n",
    "1. Data Acquisition Module\n",
    "2. Data Preprocessing Module\n",
    "3. Feature Extraction Module\n",
    "4. Text Mining Module\n",
    "5. Results Analysis Module\n",
    "6. Visualization Module"
   ]
  },
  {
   "cell_type": "code",
   "execution_count": null,
   "metadata": {},
   "outputs": [],
   "source": [
    "import import_ipynb\n",
    "import LBD_01_data_acquisition\n",
    "import LBD_02_data_preprocessing\n",
    "import LBD_03_feature_extraction\n",
    "import LBD_04_text_mining\n",
    "import LBD_05_results_analysis\n",
    "import LBD_06_visualization"
   ]
  },
  {
   "cell_type": "code",
   "execution_count": 6,
   "metadata": {},
   "outputs": [],
   "source": [
    "from typing import List, Dict, Any"
   ]
  },
  {
   "cell_type": "code",
   "execution_count": null,
   "metadata": {},
   "outputs": [],
   "source": [
    "lines = LBD_01_data_acquisition.load_data_from_file(\"input/214Texts.txt\")\n",
    "lines"
   ]
  },
  {
   "cell_type": "code",
   "execution_count": null,
   "metadata": {},
   "outputs": [],
   "source": [
    "LBD_02_data_preprocessing.do_remove_stopwords(lines)"
   ]
  },
  {
   "cell_type": "code",
   "execution_count": 23,
   "metadata": {},
   "outputs": [],
   "source": [
    "# List of strings to be written to the file\n",
    "strings_list = [\n",
    "    \"Hello, World!\",\n",
    "    \"Python is awesome.\",\n",
    "    \"This is a list of strings.\",\n",
    "    \"Writing to a file is easy.\"\n",
    "]\n",
    "\n",
    "# Specify the file path (or name) where the list will be saved\n",
    "file_path = 'output.txt'\n",
    "\n",
    "def write_data_to_file(file_path: str, lines: List[str]):\n",
    "    # Open the file in write mode ('w') and write each string to the file\n",
    "    with open(file_path, 'w') as file:\n",
    "        for line in lines:\n",
    "            file.write(line + '\\n')  # Add a newline character after each string"
   ]
  },
  {
   "cell_type": "code",
   "execution_count": null,
   "metadata": {},
   "outputs": [],
   "source": [
    "lines = LBD_01_data_acquisition.load_data_from_file(\"input/Magnesium_Migraine_before1988.txt\")\n",
    "lines"
   ]
  },
  {
   "cell_type": "code",
   "execution_count": null,
   "metadata": {},
   "outputs": [],
   "source": [
    "lines = LBD_01_data_acquisition.load_data_from_pubmed('alzheimer[tiab]', '1988/01/01', '1988/12/31', 'mig_mag')\n",
    "lines[:7]"
   ]
  },
  {
   "cell_type": "code",
   "execution_count": null,
   "metadata": {},
   "outputs": [],
   "source": [
    "# TODO - download all the benchmark documents"
   ]
  }
 ],
 "metadata": {
  "kernelspec": {
   "display_name": "Python 3",
   "language": "python",
   "name": "python3"
  },
  "language_info": {
   "codemirror_mode": {
    "name": "ipython",
    "version": 3
   },
   "file_extension": ".py",
   "mimetype": "text/x-python",
   "name": "python",
   "nbconvert_exporter": "python",
   "pygments_lexer": "ipython3",
   "version": "3.7.9"
  },
  "orig_nbformat": 4
 },
 "nbformat": 4,
 "nbformat_minor": 2
}
