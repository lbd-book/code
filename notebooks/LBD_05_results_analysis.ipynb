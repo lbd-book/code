{
 "cells": [
  {
   "cell_type": "markdown",
   "metadata": {},
   "source": [
    "# 5. Results Analysis Module\n",
    "\n",
    "This module helps analyze the results from the text mining algorithms and provide insights into the data."
   ]
  },
  {
   "cell_type": "code",
   "execution_count": 1,
   "metadata": {},
   "outputs": [],
   "source": [
    "from typing import List, Tuple, Dict\n",
    "from sklearn.base import BaseEstimator\n",
    "from scipy.sparse import csr_matrix\n",
    "import numpy as np\n",
    "from sklearn.metrics.pairwise import cosine_similarity, euclidean_distances, manhattan_distances"
   ]
  },
  {
   "cell_type": "markdown",
   "metadata": {},
   "source": [
    "This function analyze_topics takes a trained topic model (such as an LDA model), a list of feature names \n",
    "(for example, the words from a CountVectorizer or TfidfVectorizer), and an integer specifying the number \n",
    "of top words to display for each topic as input. The function analyzes the topics extracted from the topic model \n",
    "by listing the top words for each topic.\n",
    "\n",
    "The function initializes an empty list topics to store the results. The function then iterates through the components \n",
    "of the topic model using a for loop with the enumerate() function, which provides both the index and the component (topic) \n",
    "for each iteration. For each topic, the function gets the indices of the top words by sorting the topic's word weights \n",
    "in ascending order and then slicing the result to obtain the n_top_words highest-weighted words \n",
    "using the [:-n_top_words - 1:-1] slice notation.\n",
    "\n",
    "The function then retrieves the feature names (words) for the top words using a list comprehension that maps \n",
    "the top word indices to the corresponding feature names in the feature_names input list. \n",
    "The function appends a tuple containing the topic index and the top words to the topics list.\n",
    "\n",
    "Finally, the function returns the list of tuples containing the topic index and the top words for each topic.\n",
    "\n"
   ]
  },
  {
   "cell_type": "code",
   "execution_count": 2,
   "metadata": {},
   "outputs": [],
   "source": [
    "def analyze_topics(topic_model: BaseEstimator, feature_names: List[str], n_top_words: int) -> List[Tuple[int, List[str]]]:\n",
    "    \"\"\"\n",
    "    Analyze the topics extracted from a topic model by listing the top words for each topic.\n",
    "    :param topic_model: BaseEstimator, a trained topic model (e.g., LDA model)\n",
    "    :param feature_names: List[str], a list of feature names (e.g., words from a CountVectorizer or TfidfVectorizer)\n",
    "    :param n_top_words: int, the number of top words to display for each topic\n",
    "    :return: List[Tuple[int, List[str]]], a list of tuples containing the topic index and the top words for each topic\n",
    "    \"\"\"\n",
    "    # Initialize an empty list to store the results\n",
    "    topics = []\n",
    "\n",
    "    # Iterate through the components of the topic model\n",
    "    for topic_idx, topic in enumerate(topic_model.components_):\n",
    "        # Get the indices of the top words for the current topic\n",
    "        top_word_indices = topic.argsort()[:-n_top_words - 1:-1]\n",
    "\n",
    "        # Get the feature names (words) for the top words\n",
    "        top_words = [feature_names[i] for i in top_word_indices]\n",
    "\n",
    "        # Append the topic index and top words as a tuple to the topics list\n",
    "        topics.append((topic_idx, top_words))\n",
    "\n",
    "    return topics\n",
    "\n"
   ]
  },
  {
   "cell_type": "markdown",
   "metadata": {},
   "source": [
    "This function analyze_sentiment takes a list of sentiment scores for each document as input and analyzes the sentiment scores \n",
    "by calculating the average sentiment, and the proportion of positive, negative, and neutral documents. \n",
    "The function first calculates the average sentiment by summing up the sentiment scores and dividing the result \n",
    "by the number of documents (i.e., the length of the sentiment_scores list).\n",
    "\n",
    "The function then calculates the proportions of positive, negative, and neutral documents by counting \n",
    "the number of documents with sentiment scores greater than 0.05, less than -0.05, and between -0.05 and 0.05 (inclusive), \n",
    "respectively, and dividing the counts by the number of documents. These calculations use list comprehensions \n",
    "to filter the sentiment_scores list based on the sentiment score thresholds.\n",
    "\n",
    "Finally, the function returns the results as a dictionary containing the average sentiment, \n",
    "and the proportion of positive, negative, and neutral documents.\n",
    "\n"
   ]
  },
  {
   "cell_type": "code",
   "execution_count": 3,
   "metadata": {},
   "outputs": [],
   "source": [
    "def analyze_sentiment(sentiment_scores: List[float]) -> Dict[str, float]:\n",
    "    \"\"\"\n",
    "    Analyze the sentiment scores by calculating the average sentiment, and the proportion of positive, negative, and neutral documents.\n",
    "    :param sentiment_scores: List[float], a list of sentiment scores for each document\n",
    "    :return: Dict[str, float], a dictionary containing the average sentiment, and the proportion of positive, negative, and neutral documents\n",
    "    \"\"\"\n",
    "    # Calculate the average sentiment\n",
    "    average_sentiment = sum(sentiment_scores) / len(sentiment_scores)\n",
    "\n",
    "    # Calculate the proportions of positive, negative, and neutral documents\n",
    "    positive_proportion = len([score for score in sentiment_scores if score > 0.05]) / len(sentiment_scores)\n",
    "    negative_proportion = len([score for score in sentiment_scores if score < -0.05]) / len(sentiment_scores)\n",
    "    neutral_proportion = len([score for score in sentiment_scores if -0.05 <= score <= 0.05]) / len(sentiment_scores)\n",
    "\n",
    "    # Return the results as a dictionary\n",
    "    return {\n",
    "        'average_sentiment': average_sentiment,\n",
    "        'positive_proportion': positive_proportion,\n",
    "        'negative_proportion': negative_proportion,\n",
    "        'neutral_proportion': neutral_proportion,\n",
    "    }\n",
    "\n"
   ]
  },
  {
   "cell_type": "markdown",
   "metadata": {},
   "source": [
    "This function analyze_clusters takes a trained clustering model (such as a KMeans model) and a document-term matrix in \n",
    "the Compressed Sparse Row (CSR) format as input. The function analyzes the clusters created by the clustering model \n",
    "by listing the indices of the documents in each cluster.\n",
    "\n",
    "The function first obtains the cluster labels for each document using the clustering model's predict() method, \n",
    "which assigns each document in the input matrix to a cluster. The function initializes an empty dictionary clusters to store the results.\n",
    "\n",
    "The function then iterates through the unique cluster labels using a for loop with the set() function, \n",
    "which removes duplicate labels. For each cluster label, the function gets the indices of the documents \n",
    "in the current cluster by using a list comprehension that filters the cluster_labels list based on the current label. \n",
    "The function adds the document indices to the clusters dictionary with the cluster label as the key.\n",
    "\n",
    "Finally, the function returns the dictionary containing the cluster index as the key and the list of document indices \n",
    "in each cluster as the value.\n",
    "\n"
   ]
  },
  {
   "cell_type": "code",
   "execution_count": 4,
   "metadata": {},
   "outputs": [],
   "source": [
    "def analyze_clusters(clustering_model: BaseEstimator, matrix: csr_matrix) -> Dict[int, List[int]]:\n",
    "    \"\"\"\n",
    "    Analyze the clusters created by a clustering model by listing the indices of the documents in each cluster.\n",
    "    :param clustering_model: BaseEstimator, a trained clustering model (e.g., KMeans)\n",
    "    :param matrix: csr_matrix, the document-term matrix used for clustering\n",
    "    :return: Dict[int, List[int]], a dictionary containing the cluster index as the key and the list of document indices in each cluster as the value\n",
    "    \"\"\"\n",
    "    # Obtain the cluster labels for each document using the clustering model's predict method\n",
    "    cluster_labels = clustering_model.predict(matrix)\n",
    "\n",
    "    # Initialize an empty dictionary to store the results\n",
    "    clusters = {}\n",
    "\n",
    "    # Iterate through the unique cluster labels\n",
    "    for label in set(cluster_labels):\n",
    "        # Get the indices of the documents in the current cluster\n",
    "        document_indices = [idx for idx, cluster_label in enumerate(cluster_labels) if cluster_label == label]\n",
    "\n",
    "        # Add the document indices to the clusters dictionary with the cluster label as the key\n",
    "        clusters[label] = document_indices\n",
    "\n",
    "    return clusters\n",
    "\n"
   ]
  },
  {
   "cell_type": "markdown",
   "metadata": {},
   "source": [
    "This function compute_similarity takes a document-term matrix in the Compressed Sparse Row (CSR) format and a string \n",
    "specifying the similarity metric to use as input. The function computes the similarity between documents \n",
    "in the document-term matrix using the specified similarity metric.\n",
    "\n",
    "The function first checks the input similarity_metric and computes the similarity matrix accordingly. \n",
    "If the similarity metric is 'cosine', the function computes the similarity matrix using the cosine_similarity function \n",
    "from scikit-learn's sklearn.metrics.pairwise module. If the similarity metric is 'euclidean', \n",
    "the function computes the similarity matrix using the euclidean_distances function and then \n",
    "normalizes the distances into the range (0, 1) by applying the following transformation: 1 / (1 + distances). \n",
    "If the similarity metric is 'manhattan', the function computes the similarity matrix using \n",
    "the manhattan_distances function and normalizes the distances in the same way as for the Euclidean distance. \n",
    "If the input similarity metric is not one of these allowed values, the function raises a ValueError.\n",
    "\n",
    "Finally, the function returns the similarity matrix as a NumPy array with shape (n_documents, n_documents), \n",
    "where n_documents is the number of documents in the input document-term matrix.\n",
    "\n"
   ]
  },
  {
   "cell_type": "code",
   "execution_count": 5,
   "metadata": {},
   "outputs": [],
   "source": [
    "def compute_similarity(matrix: csr_matrix, similarity_metric: str = 'cosine') -> np.ndarray:\n",
    "    \"\"\"\n",
    "    Compute the similarity between documents in a document-term matrix using a specified similarity metric.\n",
    "    :param matrix: csr_matrix, the document-term matrix\n",
    "    :param similarity_metric: str, the similarity metric to use (e.g. 'cosine', 'euclidean', or 'manhattan')\n",
    "    :return: np.ndarray, the similarity matrix with shape (n_documents, n_documents)\n",
    "    \"\"\"\n",
    "    # Check the input similarity_metric and compute the similarity matrix accordingly\n",
    "    if similarity_metric == 'cosine':\n",
    "        similarity_matrix = cosine_similarity(matrix)\n",
    "    elif similarity_metric == 'euclidean':\n",
    "        similarity_matrix = 1 / (1 + euclidean_distances(matrix))\n",
    "    elif similarity_metric == 'manhattan':\n",
    "        similarity_matrix = 1 / (1 + manhattan_distances(matrix))\n",
    "    else:\n",
    "        raise ValueError(\"Invalid similarity metric. Allowed values are 'cosine', 'euclidean', or 'manhattan'.\")\n",
    "\n",
    "    return similarity_matrix\n",
    "\n"
   ]
  },
  {
   "cell_type": "markdown",
   "metadata": {},
   "source": [
    "This function find_most_similar_documents takes a similarity matrix as a NumPy array with shape (n_documents, n_documents), \n",
    "the index of the document for which to find the most similar documents, and an integer specifying the number of \n",
    "most similar documents to return as input. The function finds the most similar documents to the specified document \n",
    "using the similarity matrix.\n",
    "\n",
    "The function first gets the similarity scores for the specified document by indexing the similarity_matrix with the document_index. \n",
    "The function then gets the indices of the top_n most similar documents by sorting the similarity scores in ascending order, \n",
    "slicing the result to obtain the top_n + 1 highest similarity scores (including the specified document itself) \n",
    "using the [-top_n - 1:-1] slice notation, and then reversing the order of the indices using the [::-1] slice notation.\n",
    "\n",
    "The function gets the similarity scores of the most similar documents by indexing the similarity_scores \n",
    "with the most_similar_indices. The function then combines the indices and scores into a list of tuples using the zip() function \n",
    "and the list() constructor.\n",
    "\n",
    "Finally, the function returns the list of tuples containing the indices and similarity scores of the most similar documents.\n",
    "\n"
   ]
  },
  {
   "cell_type": "code",
   "execution_count": 6,
   "metadata": {},
   "outputs": [],
   "source": [
    "def find_most_similar_documents(similarity_matrix: np.ndarray, document_index: int, top_n: int = 5) -> List[Tuple[int, float]]:\n",
    "    \"\"\"\n",
    "    Find the most similar documents to a specified document using a similarity matrix.\n",
    "    :param similarity_matrix: np.ndarray, the similarity matrix with shape (n_documents, n_documents)\n",
    "    :param document_index: int, the index of the document for which to find the most similar documents\n",
    "    :param top_n: int, the number of most similar documents to return (default: 5)\n",
    "    :return: List[Tuple[int, float]], a list of tuples containing the indices and similarity scores of the most similar documents\n",
    "    \"\"\"\n",
    "    # Get the similarity scores for the specified document\n",
    "    similarity_scores = similarity_matrix[document_index]\n",
    "\n",
    "    # Get the indices of the top_n most similar documents (excluding the specified document itself)\n",
    "    most_similar_indices = np.argsort(similarity_scores)[-top_n - 1:-1][::-1]\n",
    "\n",
    "    # Get the similarity scores of the most similar documents\n",
    "    most_similar_scores = similarity_scores[most_similar_indices]\n",
    "\n",
    "    # Combine the indices and scores into a list of tuples\n",
    "    most_similar_documents = list(zip(most_similar_indices, most_similar_scores))\n",
    "\n",
    "    return most_similar_documents\n"
   ]
  },
  {
   "cell_type": "markdown",
   "metadata": {},
   "source": [
    "The Results Analysis Module provides functions to extract insights from the output of text mining algorithms. The module allows users to analyze topics from topic modeling, calculate summary statistics for sentiment scores, analyze document clusters, compute document similarity, and find the most similar documents to a given document. These functions help users better understand the patterns and trends in their text data, ultimately facilitating data-driven decision-making.\n"
   ]
  },
  {
   "cell_type": "code",
   "execution_count": null,
   "metadata": {},
   "outputs": [],
   "source": []
  }
 ],
 "metadata": {
  "kernelspec": {
   "display_name": "Python 3 (ipykernel)",
   "language": "python",
   "name": "python3"
  },
  "language_info": {
   "codemirror_mode": {
    "name": "ipython",
    "version": 3
   },
   "file_extension": ".py",
   "mimetype": "text/x-python",
   "name": "python",
   "nbconvert_exporter": "python",
   "pygments_lexer": "ipython3",
   "version": "3.7.9"
  }
 },
 "nbformat": 4,
 "nbformat_minor": 4
}
