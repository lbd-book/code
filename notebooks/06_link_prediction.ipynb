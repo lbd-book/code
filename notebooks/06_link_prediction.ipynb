{
 "cells": [
  {
   "cell_type": "markdown",
   "id": "52b38cd0-b4ad-498e-8d88-7f01ba04dbda",
   "metadata": {},
   "source": [
    "# Link prediction workflow notebook tutorial\n",
    "\n",
    "In this tutorial we demonstrate how computational techniques can assist in discovering potential new knowledge within the scientific literature. The tutorial is structured to guide the reader through an unsupervised approach to link prediction, encompassing the entire process from data preparation to visualization. Each step demonstrates how to effectively perform link prediction on a MeSH co-occurrence network, aiming to uncover potential future connections between MeSH terms:\n",
    "\n",
    "1. Data Preparation: Involves acquiring and cleaning MeSH term co-occurrence data.\n",
    "2. Feature Selection: Focuses on extracting relevant features for predicting linkages, such as shared neighbors and node centrality.\n",
    "3. Model Training: Utilizes machine learning algorithms, typically logistic regression or neural networks, trained on a subset of known MeSH term linkages to identify predictive patterns.\n",
    "4. Prediction and Evaluation: Entails applying the trained model to predict new linkages and evaluating its performance using metrics like precision, recall, and the area under the ROC curve.\n",
    "5. Visualization: Employs visual tools to illustrate the network and predicted links, enhancing the understanding and interpretation of the results."
   ]
  },
  {
   "cell_type": "code",
   "execution_count": null,
   "id": "e2b294b5-20bb-4288-972d-dc64bcd22245",
   "metadata": {},
   "outputs": [],
   "source": []
  }
 ],
 "metadata": {
  "kernelspec": {
   "display_name": "Python 3 (ipykernel)",
   "language": "python",
   "name": "python3"
  },
  "language_info": {
   "codemirror_mode": {
    "name": "ipython",
    "version": 3
   },
   "file_extension": ".py",
   "mimetype": "text/x-python",
   "name": "python",
   "nbconvert_exporter": "python",
   "pygments_lexer": "ipython3",
   "version": "3.11.11"
  }
 },
 "nbformat": 4,
 "nbformat_minor": 5
}
