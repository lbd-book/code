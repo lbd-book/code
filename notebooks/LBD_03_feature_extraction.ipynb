{
 "cells": [
  {
   "cell_type": "markdown",
   "metadata": {},
   "source": [
    "# 3. Feature Extraction Module\n",
    "\n",
    "This module implements various feature extraction techniques like Bag of Words, TF-IDF, and word embeddings."
   ]
  },
  {
   "cell_type": "code",
   "execution_count": 1,
   "metadata": {
    "tags": []
   },
   "outputs": [],
   "source": [
    "import numpy as np\n",
    "from gensim.models import Word2Vec, FastText\n",
    "from sklearn.feature_extraction.text import CountVectorizer, TfidfVectorizer\n",
    "from sklearn.base import BaseEstimator\n",
    "from scipy.sparse import csr_matrix\n",
    "from typing import List, Tuple, Dict"
   ]
  },
  {
   "cell_type": "markdown",
   "metadata": {},
   "source": [
    "This function create_bag_of_words takes a list of preprocessed text documents as input and uses the scikit-learn library \n",
    "to create a bag of words representation of the corpus. \n",
    "The function first creates an instance of the sklearn.feature_extraction.text.CountVectorizer, \n",
    "which is an implementation of the bag of words model.\n",
    "\n",
    "The function then fits the vectorizer to the input corpus and transforms the corpus into a bag of words matrix using \n",
    "the vectorizer.fit_transform() method. The matrix is stored in the Compressed Sparse Row (CSR) format (csr_matrix) \n",
    "for efficient storage and computation.\n",
    "\n",
    "Finally, the function returns a tuple containing the CountVectorizer instance and the bag of words matrix.\n",
    "\n",
    "**Functionality**\n",
    "\n",
    "This Python function, `create_bag_of_words`, generates a Bag of Words (BoW) representation of a text corpus. The function takes in a list of preprocessed text documents and converts them into a matrix where each row represents a document, and each column represents a word or a sequence of words (n-grams) found in the corpus. The matrix entries indicate the frequency of these words within the documents.\n",
    "\n",
    "The Bag of Words model is a foundational technique in Natural Language Processing (NLP) and Text Mining. It transforms text data into a structured numerical format that machine learning models can process. This is particularly crucial for tasks like text classification, sentiment analysis, and information retrieval. The ability to convert text into a quantifiable form allows for more sophisticated analysis and discovery, such as identifying patterns, trends, or novel insights in a large corpus of literature—commonly referred to as Literature-Based Discovery (LBD).\n",
    "\n",
    "In the context of LBD, the BoW model can be used to extract significant terms from scientific papers, patents, or other textual data. By analyzing the frequency and distribution of words across a corpus, researchers can identify new connections between seemingly unrelated pieces of information. This can lead to the discovery of novel hypotheses or previously overlooked relationships between concepts.\n",
    "\n",
    "**Use**\n",
    "\n",
    "1. *Input parameters*:\n",
    "    - `corpus`: A list of preprocessed text documents. Each document is expected to be a string where preprocessing (such as lowercasing, removing punctuation, etc.) has already been applied.\n",
    "    - `ngram_size`: Specifies the maximum size of n-grams to consider. An n-gram is a contiguous sequence of `n` items from a given text. For example, with `ngram_size=2`, the function will consider both single words (unigrams) and pairs of words (bigrams).\n",
    "    - `min_df`: Sets a threshold for ignoring infrequent words. Words that appear in fewer documents than this threshold will be ignored. This can be a count (e.g., `min_df=2` means words must appear in at least two documents) or a proportion (e.g., `min_df=0.01` means words must appear in at least 1% of the documents).\n",
    "\n",
    "2. *Return values*:\n",
    "    - A list of words (or n-grams) that are the features of the BoW model.\n",
    "    - A matrix where each row corresponds to a document and each column corresponds to a word (or n-gram). The values in the matrix represent the frequency of the word in the corresponding document.\n",
    "\n",
    "3. *Example Usage*:\n",
    "    ```python\n",
    "    corpus = [\n",
    "        \"natural language processing with python\",\n",
    "        \"text mining and information retrieval\",\n",
    "        \"introduction to natural language processing\",\n",
    "    ]\n",
    "    words, bow_matrix = create_bag_of_words(corpus, ngram_size=1, min_df=1)\n",
    "    print(\"Words:\", words)\n",
    "    print(\"Bag of Words Matrix:\\n\", bow_matrix)\n",
    "    ```\n",
    "\n",
    "**Applications**\n",
    "\n",
    "- *Text classification*: Convert documents into BoW format for input into machine learning models to classify them into categories like spam detection, sentiment analysis, or topic classification.\n",
    "  \n",
    "- *Document similarity*: Compute the similarity between documents based on their BoW representations, useful in information retrieval and clustering tasks.\n",
    "\n",
    "- *Feature extraction for NLP tasks*: Use BoW as a feature set for more complex NLP tasks like named entity recognition, part-of-speech tagging, or word sense disambiguation.\n",
    "\n",
    "The `create_bag_of_words` function is a simple yet powerful tool to transform text data into a structured numerical format. This transformation is a critical first step in many text mining and NLP tasks, enabling more advanced analysis and discovery processes. Whether you’re conducting sentiment analysis, categorizing documents, or exploring new hypotheses through Literature-Based Discovery, understanding and using the BoW model is essential."
   ]
  },
  {
   "cell_type": "code",
   "execution_count": null,
   "metadata": {
    "tags": []
   },
   "outputs": [],
   "source": [
    "def create_bag_of_words(corpus: List[str], ngram_size=1, min_df=1, max_features=None) -> Tuple[List, np.ndarray]:\n",
    "    \"\"\"\n",
    "    Create a bag of words representation of a text corpus.\n",
    "    :param corpus: List[str], a list of preprocessed text documents\n",
    "    :ngram_size: max ngram size, default = 1 meaning single words\n",
    "    :min_df: ignore words that have a document frequency strictly lower than the given threshold, default = 1\n",
    "             if the value is between 0 and 0.999, it ignores the words with relative document frequency strictly lower than the threshold\n",
    "     :return: Tuple[List, Matrix], the List of words and the bow matrix\n",
    "    \"\"\"\n",
    "    # Create an instance of the CountVectorizer from scikit-learn\n",
    "    vectorizer = CountVectorizer(ngram_range=(1, ngram_size), min_df=min_df, max_features=max_features, dtype=np.int32)\n",
    "    # vectorizer = CountVectorizer(ngram_range=(1, ngram_size), min_df=min_df, stop_words='english')\n",
    "\n",
    "    # Fit the vectorizer to the corpus and transform the corpus into a bag of words matrix\n",
    "    bag_of_words_matrix = vectorizer.fit_transform(corpus)\n",
    "\n",
    "    # Return the vectorizer and the bag of words matrix as a tuple\n",
    "    return vectorizer.get_feature_names_out().tolist(), bag_of_words_matrix.toarray()\n",
    "\n"
   ]
  },
  {
   "cell_type": "markdown",
   "metadata": {},
   "source": [
    "Helper functions for summarizing bag_of_words and tfidf matices."
   ]
  },
  {
   "cell_type": "code",
   "execution_count": 3,
   "metadata": {
    "tags": []
   },
   "outputs": [],
   "source": [
    "def word_is_nterm(word: str):\n",
    "    return ' ' in word\n",
    "\n",
    "def sum_count_documents_containing_each_word(word_list: List, bow_matrix: np.ndarray) -> Dict[str, int]:\n",
    "    # number of documents containing each word\n",
    "    word_counts = (bow_matrix > 0).sum(axis=0)\n",
    "    words_dict = {}\n",
    "    for word, count in zip(word_list, word_counts):\n",
    "        words_dict[word] = count\n",
    "    return words_dict\n",
    "\n",
    "def sum_count_each_word_in_all_documents(word_list: List, any_matrix: np.ndarray) -> Dict[str, int]:\n",
    "    # number of occurences of each word in all documents; sum of matrix columns\n",
    "    word_counts = (any_matrix).sum(axis=0)\n",
    "    if type(word_counts) == np.matrix:\n",
    "        word_counts = word_counts.tolist()[0]\n",
    "    words_dict = {}\n",
    "    for word, count in zip(word_list, word_counts):\n",
    "        words_dict[word] = count\n",
    "    return words_dict\n",
    "\n",
    "def max_tfidf_each_word_in_all_documents(word_list: List, tfidf_matrix: np.ndarray) -> Dict[str, float]:\n",
    "    # max tfidf of each word in all documents; max element found in each matrix column\n",
    "    word_counts = (tfidf_matrix).max(axis=0)\n",
    "    if type(word_counts) == np.matrix:\n",
    "        word_counts = word_counts.tolist()[0]\n",
    "    words_dict = {}\n",
    "    for word, count in zip(word_list, word_counts):\n",
    "        words_dict[word] = count\n",
    "    return words_dict\n",
    "\n",
    "def sum_count_all_words_in_each_document(ids_list: List, any_matrix: np.ndarray) -> Dict[str, int]:\n",
    "    # number of words in each document; sum of matrix rows\n",
    "    word_counts = (any_matrix).sum(axis=1)\n",
    "    if type(word_counts) == np.matrix:\n",
    "        word_counts = word_counts.transpose().tolist()[0]\n",
    "    words_dict = {}\n",
    "    for id, count in zip(ids_list, word_counts):\n",
    "        words_dict[id] = count\n",
    "    return words_dict\n",
    "\n",
    "def max_tfidf_all_words_in_each_document(ids_list: List, tfidf_matrix: np.ndarray) -> Dict[str, float]:\n",
    "    # max tfidf of words in each document; max element found in each matrix row\n",
    "    word_counts = (tfidf_matrix).max(axis=1)\n",
    "    if type(word_counts) == np.matrix:\n",
    "        word_counts = word_counts.transpose().tolist()[0]\n",
    "    words_dict = {}\n",
    "    for id, count in zip(ids_list, word_counts):\n",
    "        words_dict[id] = count\n",
    "    return words_dict\n",
    "\n"
   ]
  },
  {
   "cell_type": "markdown",
   "metadata": {},
   "source": [
    "Helper function for extracting sub-matrix from a given matrix (bag_of_words and tfidf).\n"
   ]
  },
  {
   "cell_type": "code",
   "execution_count": 4,
   "metadata": {
    "tags": []
   },
   "outputs": [],
   "source": [
    "def filter_matrix(ids_list: List, word_list: List, any_matrix: np.ndarray, filter_rows: List, filter_columns: List) -> Tuple[List, List, np.ndarray]:\n",
    "    # filter the input matrix (according to filter_rows and filter_columns) into output matrix and preserve the order of filters in new output matrix \n",
    "    \"\"\"\n",
    "    Construct a sub-matrix from the given matrix based on filter_rows and filter_columns.\n",
    "    \n",
    "    Parameters:\n",
    "    - matrix (numpy.ndarray): The original matrix.\n",
    "    - filter_rows (list): List of row indices to include in the sub-matrix.\n",
    "    - filter_columns (list): List of column indices to include in the sub-matrix.\n",
    "    \n",
    "    Returns:\n",
    "    - numpy.ndarray: The sub-matrix.\n",
    "    \"\"\"\n",
    "    new_ids_list = []\n",
    "    for ind in filter_rows:\n",
    "        new_ids_list.append(ids_list[ind])\n",
    "    new_word_list = []\n",
    "    for ind in filter_columns:\n",
    "        new_word_list.append(word_list[ind])\n",
    "    return new_ids_list, new_word_list, any_matrix[np.ix_(filter_rows, filter_columns)]\n",
    "\n",
    "def filter_matrix_columns(word_list: List, any_matrix: np.ndarray, filter_rows: List, filter_columns: List) -> Tuple[List, np.ndarray]:\n",
    "    # filter columns of the input matrix (according to filter_rows and filter_columns) into output matrix and preserve the order of filters in new output matrix \n",
    "    \"\"\"\n",
    "    Construct a sub-matrix from the given matrix based on filter_columns.\n",
    "    \n",
    "    Parameters:\n",
    "    - matrix (numpy.ndarray): The original matrix.\n",
    "    - filter_rows (list): List of row indices to include in the sub-matrix.\n",
    "    - filter_columns (list): List of column indices to include in the sub-matrix.\n",
    "    \n",
    "    Returns:\n",
    "    - numpy.ndarray: The sub-matrix.\n",
    "    \"\"\"\n",
    "    new_word_list = []\n",
    "    for ind in filter_columns:\n",
    "        new_word_list.append(word_list[ind])\n",
    "    return new_word_list, any_matrix[np.ix_(filter_rows, filter_columns)]\n"
   ]
  },
  {
   "cell_type": "markdown",
   "metadata": {},
   "source": [
    "This function create_tfidf takes a list of preprocessed text documents as input and uses the scikit-learn library \n",
    "to create a Term Frequency-Inverse Document Frequency (TF-IDF) representation of the corpus. \n",
    "The function first creates an instance of the sklearn.feature_extraction.text.TfidfVectorizer, \n",
    "which is an implementation of the TF-IDF model.\n",
    "\n",
    "The function then fits the vectorizer to the input corpus and transforms the corpus into a TF-IDF matrix using \n",
    "the vectorizer.fit_transform() method. The matrix is stored in the Compressed Sparse Row (CSR) format (csr_matrix) \n",
    "for efficient storage and computation.\n",
    "\n",
    "Finally, the function returns a tuple containing the list of features *TfidfVectorizer.get_feature_names_out().tolist()* that correspond to the columns of the TF-IDF matrix and the TF-IDF matrix *tfidf_matrix*.\n",
    "\n"
   ]
  },
  {
   "cell_type": "code",
   "execution_count": null,
   "metadata": {
    "tags": []
   },
   "outputs": [],
   "source": [
    "def create_tfidf(corpus: List[str], ngram_size=1, min_df=1, max_features=None) -> Tuple[List, np.ndarray]:\n",
    "    \"\"\"\n",
    "    Create a TF-IDF representation of a text corpus.\n",
    "    :param corpus: List[str], a list of preprocessed text documents\n",
    "    :ngram_size: max ngram size, default = 1 meaning single words\n",
    "    :min_df: ignore words that have a document frequency strictly lower than the given threshold, default = 1\n",
    "             if the value is between 0 and 0.999, it ignores the words with relative document frequency strictly lower than the threshold\n",
    "    :return: TTuple[List, Matrix], the List of words and the tf-idf matrix\n",
    "    \"\"\"\n",
    "    # Create an instance of the TfidfVectorizer from scikit-learn\n",
    "    vectorizer = TfidfVectorizer(ngram_range=(1, ngram_size), min_df=min_df, max_features=max_features, dtype=np.float32)\n",
    "    # vectorizer = TfidfVectorizer(ngram_range=(1, ngram_size), min_df=min_df, stop_words='english')\n",
    "\n",
    "    # Fit the vectorizer to the corpus and transform the corpus into a TF-IDF matrix\n",
    "    # tfidf_matrix = np.asarray(vectorizer.fit_transform(corpus))\n",
    "    tfidf_matrix = vectorizer.fit_transform(corpus)\n",
    "\n",
    "    # Return the vectorizer and the TF-IDF matrix as a tuple\n",
    "    return vectorizer.get_feature_names_out().tolist(), tfidf_matrix.todense()\n",
    "\n"
   ]
  },
  {
   "cell_type": "markdown",
   "metadata": {},
   "source": [
    "Cluster the input matrix (according to cluster_rows) into output matrix, where the number of rows is the number of clusters."
   ]
  },
  {
   "cell_type": "code",
   "execution_count": 6,
   "metadata": {
    "tags": []
   },
   "outputs": [],
   "source": [
    "def cluster_matrix(ids_list: List, word_list: List, any_matrix: np.ndarray, cluster_rows: List) -> np.ndarray:\n",
    "    \"\"\"\n",
    "    Construct an agregate sub-matrix from the given matrix based on cluster_rows.\n",
    "    cluster_rows contains integer numbers representing index of a cluster of the corresponding document.\n",
    "    The clusters are represented by numbers 0, 1, 2, ... \n",
    "    \n",
    "    Parameters:\n",
    "    - matrix (numpy.ndarray): The original matrix.\n",
    "    - filter_rows (list): List of row indices to include in the sub-matrix.\n",
    "    - filter_columns (list): List of column indices to include in the sub-matrix.\n",
    "    \n",
    "    Returns:\n",
    "    - numpy.ndarray: The sub-matrix with the row dimensionality of number of different clusters.\n",
    "    \"\"\"\n",
    "    new_ids_list = []\n",
    "    for ind in cluster_rows:\n",
    "        new_ids_list.append(ids_list[ind])\n",
    "    return any_matrix[np.ix_(cluster_rows, cluster_rows)]"
   ]
  },
  {
   "cell_type": "markdown",
   "metadata": {},
   "source": [
    "This function create_word_embeddings takes a list of tokenized text documents and an optional embedding method \n",
    "(either 'word2vec' or 'fasttext', defaulting to 'word2vec') as input, and uses the gensim library to create \n",
    "word embeddings for the documents. The function first trains a word embedding model using the specified method, \n",
    "creating either a Word2Vec or FastText model with a vector size of 100, a window size of 5, a minimum word count of 1, \n",
    "and 4 worker threads for parallelization.\n",
    "\n",
    "The function then initializes an empty matrix with the shape (len(tokens_list), model.vector_size) to store the document embeddings. \n",
    "For each document in the input tokens_list, the function calculates the document embedding by averaging the word embeddings \n",
    "of each token in the document. This is done by first retrieving the word embeddings for each token using the trained \n",
    "model's model.wv[token] attribute, then calculating the mean of these embeddings along axis 0.\n",
    "\n",
    "Finally, the function returns a tuple containing the word embedding model (either a Word2Vec or FastText instance) \n",
    "and the document embeddings matrix as a NumPy array.\n",
    "\n"
   ]
  },
  {
   "cell_type": "code",
   "execution_count": 7,
   "metadata": {
    "tags": []
   },
   "outputs": [],
   "source": [
    "def create_word_embeddings(tokens_list: List[List[str]], embedding_method: str = 'word2vec') -> Tuple[BaseEstimator, np.ndarray]:\n",
    "    \"\"\"\n",
    "    Create word embeddings for a list of tokenized documents using the specified embedding method.\n",
    "    :param tokens_list: List[List[str]], a list of tokenized text documents\n",
    "    :param embedding_method: str, the embedding method to use, either 'word2vec' or 'fasttext' (default: 'word2vec')\n",
    "    :return: Tuple[BaseEstimator, np.ndarray], the word embedding model and the document embeddings matrix\n",
    "    \"\"\"\n",
    "    # Train the word embedding model based on the specified method\n",
    "    if embedding_method == 'word2vec':\n",
    "        model = Word2Vec(tokens_list, vector_size=100, window=5, min_count=1, workers=4)\n",
    "    elif embedding_method == 'fasttext':\n",
    "        model = FastText(tokens_list, vector_size=100, window=5, min_count=1, workers=4)\n",
    "    else:\n",
    "        raise ValueError(\"Invalid embedding method. Please use either 'word2vec' or 'fasttext'.\")\n",
    "\n",
    "    # Initialize an empty matrix to store the document embeddings\n",
    "    document_embeddings = np.zeros((len(tokens_list), model.vector_size))\n",
    "\n",
    "    # Calculate the document embeddings by averaging the word embeddings of each token\n",
    "    for i, tokens in enumerate(tokens_list):\n",
    "        token_embeddings = np.array([model.wv[token] for token in tokens])\n",
    "        document_embeddings[i] = token_embeddings.mean(axis=0)\n",
    "\n",
    "    return model, document_embeddings\n"
   ]
  },
  {
   "cell_type": "code",
   "execution_count": null,
   "metadata": {},
   "outputs": [],
   "source": []
  }
 ],
 "metadata": {
  "kernelspec": {
   "display_name": "venv",
   "language": "python",
   "name": "python3"
  },
  "language_info": {
   "codemirror_mode": {
    "name": "ipython",
    "version": 3
   },
   "file_extension": ".py",
   "mimetype": "text/x-python",
   "name": "python",
   "nbconvert_exporter": "python",
   "pygments_lexer": "ipython3",
   "version": "3.7.9"
  }
 },
 "nbformat": 4,
 "nbformat_minor": 4
}
